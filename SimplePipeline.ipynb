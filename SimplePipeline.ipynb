{
 "cells": [
  {
   "cell_type": "markdown",
   "id": "89176f85",
   "metadata": {},
   "source": [
    "# Import libraries"
   ]
  },
  {
   "cell_type": "code",
   "execution_count": 10,
   "id": "26c74e44",
   "metadata": {},
   "outputs": [],
   "source": [
    "import pandas as pd\n",
    "import numpy as np\n",
    "\n",
    "from sklearn.svm import SVC"
   ]
  },
  {
   "cell_type": "markdown",
   "id": "b6943f97",
   "metadata": {},
   "source": [
    "# Load the training csv's and combine them into one dataframe"
   ]
  },
  {
   "cell_type": "code",
   "execution_count": 4,
   "id": "617c083f",
   "metadata": {},
   "outputs": [],
   "source": [
    "# load all 8 training csv's\n",
    "df1 = pd.read_csv('reviews/train-1.csv')\n",
    "df2 = pd.read_csv('reviews/train-2.csv')\n",
    "df3 = pd.read_csv('reviews/train-3.csv')\n",
    "df4 = pd.read_csv('reviews/train-4.csv')\n",
    "df5 = pd.read_csv('reviews/train-5.csv')\n",
    "df6 = pd.read_csv('reviews/train-6.csv')\n",
    "df7 = pd.read_csv('reviews/train-7.csv')\n",
    "df8 = pd.read_csv('reviews/train-8.csv')\n",
    "\n",
    "# combine the dataframes into one big dataframe\n",
    "df_train = pd.concat([df1, df2, df3, df4, df5, df6, df7, df8])\n",
    "df_val = pd.read_csv('reviews/validation_hidden.csv')"
   ]
  },
  {
   "cell_type": "markdown",
   "id": "aca4a2df",
   "metadata": {},
   "source": [
    "# Create a simple feature space\n",
    "We do want to use more (if not all) columns. We need to clean the data and maybe aggregate the text values."
   ]
  },
  {
   "cell_type": "code",
   "execution_count": 28,
   "id": "263b1b40",
   "metadata": {
    "scrolled": true
   },
   "outputs": [],
   "source": [
    "# get a simple feature space for the training data by using the product category id since it's numerical\n",
    "X_train = df_train['product_category_id'].to_numpy().reshape(-1, 1)\n",
    "\n",
    "# get the training labels\n",
    "y_train = df_train['label'].to_numpy()\n",
    "\n",
    "# get a simple feature space for the validation data by using the product category id since it's numerical\n",
    "X_val = df_val['product_category_id'].to_numpy().reshape(-1, 1)"
   ]
  },
  {
   "cell_type": "markdown",
   "id": "6d289f30",
   "metadata": {},
   "source": [
    "# Create the model and fit it on the training data"
   ]
  },
  {
   "cell_type": "code",
   "execution_count": 29,
   "id": "6ffe32f2",
   "metadata": {},
   "outputs": [
    {
     "data": {
      "text/plain": [
       "SVC()"
      ]
     },
     "execution_count": 29,
     "metadata": {},
     "output_type": "execute_result"
    }
   ],
   "source": [
    "# use a basic support vector classifier for the initial pipeline\n",
    "model = SVC()\n",
    "model.fit(X_train, y_train)"
   ]
  },
  {
   "cell_type": "markdown",
   "id": "2994cc25",
   "metadata": {},
   "source": [
    "# Predict the validation labels and put this in a result dataframe"
   ]
  },
  {
   "cell_type": "code",
   "execution_count": 36,
   "id": "c2c87a08",
   "metadata": {},
   "outputs": [],
   "source": [
    "# get the validation predictions\n",
    "pred_val = model.predict(X_val)\n",
    "\n",
    "# put the labels with the unique identifier (I guess) in a dataframe\n",
    "df_result = pd.DataFrame(list(zip(df_val['Unnamed: 0'].to_list(), pred_val)), columns = ['Unnamed: 0', 'label'])"
   ]
  },
  {
   "cell_type": "markdown",
   "id": "a76f641d",
   "metadata": {},
   "source": [
    "# Write the result to a csv"
   ]
  },
  {
   "cell_type": "code",
   "execution_count": 37,
   "id": "20f93213",
   "metadata": {},
   "outputs": [],
   "source": [
    "df_result.to_csv('validation_result.csv')"
   ]
  }
 ],
 "metadata": {
  "kernelspec": {
   "display_name": "Python 3 (ipykernel)",
   "language": "python",
   "name": "python3"
  },
  "language_info": {
   "codemirror_mode": {
    "name": "ipython",
    "version": 3
   },
   "file_extension": ".py",
   "mimetype": "text/x-python",
   "name": "python",
   "nbconvert_exporter": "python",
   "pygments_lexer": "ipython3",
   "version": "3.8.11"
  }
 },
 "nbformat": 4,
 "nbformat_minor": 5
}
